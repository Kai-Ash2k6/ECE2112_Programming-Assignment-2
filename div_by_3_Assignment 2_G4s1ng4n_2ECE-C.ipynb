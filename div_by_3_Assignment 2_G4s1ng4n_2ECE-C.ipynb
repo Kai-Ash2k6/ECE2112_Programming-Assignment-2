{
 "cells": [
  {
   "cell_type": "markdown",
   "id": "fbb4636f-196b-4f8c-8da4-0d784315f46c",
   "metadata": {},
   "source": [
    "##  GAS1NG@N, KA1TLYN ASHL3Y C.\n",
    "#   2 ECE - C\n",
    "\n",
    "# - - - 2nd Problem on Manual - - - "
   ]
  },
  {
   "cell_type": "code",
   "execution_count": null,
   "id": "d5c90afb-3a4c-460b-8f57-ac312860f7f3",
   "metadata": {},
   "outputs": [],
   "source": [
    "#the squares of the first 100 positive integers.\n",
    "#From this ndarray, determine all the elements that are divisible by 3. \n",
    "#Save the result as div_by_3.npy"
   ]
  },
  {
   "cell_type": "code",
   "execution_count": 42,
   "id": "bb756108-e62a-4cc1-a813-c978884adba6",
   "metadata": {},
   "outputs": [
    {
     "name": "stdout",
     "output_type": "stream",
     "text": [
      "A = \n",
      "[9, 36, 81, 144, 225, 324, 441, 576, 729, 900]\n",
      "[1089, 1296, 1521, 1764, 2025, 2304, 2601, 2916, 3249, 3600]\n",
      "[3969, 4356, 4761, 5184, 5625, 6084, 6561, 7056, 7569, 8100]\n",
      "[8649, 9216, 9801, 10404, 11025, 11664, 12321, 12996, 13689, 14400]\n",
      "[15129, 15876, 16641, 17424, 18225, 19044, 19881, 20736, 21609, 22500]\n",
      "[23409, 24336, 25281, 26244, 27225, 28224, 29241, 30276, 31329, 32400]\n",
      "[33489, 34596, 35721, 36864, 38025, 39204, 40401, 41616, 42849, 44100]\n",
      "[45369, 46656, 47961, 49284, 50625, 51984, 53361, 54756, 56169, 57600]\n",
      "[59049, 60516, 62001, 63504, 65025, 66564, 68121, 69696, 71289, 72900]\n",
      "[74529, 76176, 77841, 79524, 81225, 82944, 84681, 86436, 88209, 90000]\n"
     ]
    }
   ],
   "source": [
    "def d_by3_array(n):\n",
    "    divisible = []                     #List to store numbers divisible by 3\n",
    "    num = 1                            #start from 1\n",
    "    count = 0                          #to count for how many valid numbers is found\n",
    "\n",
    "    #keep looping until the 100 numbers are collected\n",
    "    \n",
    "    while count < n:\n",
    "        sq = num ** 2                  #the double asterisk is a code for power in math\n",
    "        if sq % 3 == 0:\n",
    "            divisible.append(sq)\n",
    "            count = count + 1          #increase counter when we find one\n",
    "        num = num + 1                  #move to next number\n",
    "\n",
    "    #then, convert the list into a 10x10 array\n",
    "    array_tBt = []\n",
    "    index = 0\n",
    "    for row in range(10):              #for each row - 10 rows\n",
    "        nemo = []                      #row =  - empty list\n",
    "        for col in range(10):          #for each row - 10 Columns\n",
    "            nemo.append(divisible[index])\n",
    "                                       #append(row[column]) - put current divisible number into current row\n",
    "            index = index + 1\n",
    "        array_tBt.append(nemo)         #array_name.append(row)\n",
    "    return array_tBt                   #give the final 10x10 back\n",
    "\n",
    "#call the function\n",
    "result = d_by3_array(100)             #result = function(array)\n",
    "\n",
    "print('A = ')                         #just printed the label A as same with the \n",
    "                                      #example in the lab mamnual\n",
    "\n",
    "#print the 10x10 array\n",
    "for nemo in result:                   #for row in array\n",
    "    print(nemo)                       #print(row)"
   ]
  }
 ],
 "metadata": {
  "kernelspec": {
   "display_name": "Python [conda env:base] *",
   "language": "python",
   "name": "conda-base-py"
  },
  "language_info": {
   "codemirror_mode": {
    "name": "ipython",
    "version": 3
   },
   "file_extension": ".py",
   "mimetype": "text/x-python",
   "name": "python",
   "nbconvert_exporter": "python",
   "pygments_lexer": "ipython3",
   "version": "3.13.5"
  }
 },
 "nbformat": 4,
 "nbformat_minor": 5
}
