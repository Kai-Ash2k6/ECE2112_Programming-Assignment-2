{
 "cells": [
  {
   "cell_type": "markdown",
   "id": "67cafabc-5b86-4af1-bbb0-f0160691a630",
   "metadata": {},
   "source": [
    "# GAS1NG@N, KA1TLYN ASHL3Y C.\n",
    "#   2 ECE - C\n",
    "\n",
    "# - - - 1st Problem on Manual - - - "
   ]
  },
  {
   "cell_type": "code",
   "execution_count": null,
   "id": "d9f51421-c8b2-4ec6-a5a7-3f9933dad5b5",
   "metadata": {},
   "outputs": [],
   "source": [
    "# In Python, element-wise mean and element-wise standard deviation can be obtained by using .mean() and\n",
    "# .std() calls.\n",
    "# In this problem, create a random 5 x 5 ndarray and store it to variable X. Normalize X. Save your normalized\n",
    "# ndarray as X_normalized.npy"
   ]
  },
  {
   "cell_type": "code",
   "execution_count": 52,
   "id": "a43962b2-adde-4e0f-9658-539732c9b9cb",
   "metadata": {},
   "outputs": [
    {
     "name": "stdout",
     "output_type": "stream",
     "text": [
      "Original X:\n",
      " [[0.50241385 0.928936   0.46392218 0.7726049  0.26729918]\n",
      " [0.26402077 0.7615834  0.81415909 0.3543524  0.14680447]\n",
      " [0.46631149 0.14026379 0.6509906  0.20716871 0.30065775]\n",
      " [0.39641506 0.5455631  0.42405565 0.82422931 0.0643856 ]\n",
      " [0.33451912 0.06903717 0.0968996  0.38676959 0.49288131]]\n",
      "\n",
      "Mean of X: 0.42704976369125847\n",
      "Standard Deviation of X: 0.24740612591927225\n",
      "\n",
      "Normalized X:\n",
      " [[ 0.30461691  2.02859261  0.14903599  1.39671214 -0.6457018 ]\n",
      " [-0.65895294  1.35216391  1.56467153 -0.29383815 -1.13273385]\n",
      " [ 0.15869342 -1.15917087  0.90515476 -0.88874538 -0.51086859]\n",
      " [-0.12382355  0.47902345 -0.01210202  1.60537475 -1.46586574]\n",
      " [-0.37400303 -1.4470644  -1.33444618 -0.16280994  0.26608696]]\n"
     ]
    }
   ],
   "source": [
    "import numpy as np\n",
    "\n",
    "# Step 1: Create a random 5x5 NumPy array\n",
    "X = np.random.rand(5, 5)  # Generates values between 0 and 1\n",
    "print(\"Original X:\\n\", X)\n",
    "\n",
    "# Step 2: Calculate mean and standard deviation\n",
    "mean = X.mean()\n",
    "std = X.std() \n",
    "        \n",
    "        #The code won't work without .std and .mean because \n",
    "        #standard deviation is not built-in \n",
    "\n",
    "print(\"\\nMean of X:\", mean)\n",
    "print(\"Standard Deviation of X:\", std)\n",
    "\n",
    "# Step 3: Normalize the array using the formula Z = (X - mean) / std\n",
    "X_normalized = (X - mean) / std\n",
    "print(\"\\nNormalized X:\\n\", X_normalized)\n",
    "\n",
    "# Step 4: Save the normalized array to a file\n",
    "np.save(\"X_normalized.npy\", X_normalized)\n",
    "\n"
   ]
  }
 ],
 "metadata": {
  "kernelspec": {
   "display_name": "Python [conda env:base] *",
   "language": "python",
   "name": "conda-base-py"
  },
  "language_info": {
   "codemirror_mode": {
    "name": "ipython",
    "version": 3
   },
   "file_extension": ".py",
   "mimetype": "text/x-python",
   "name": "python",
   "nbconvert_exporter": "python",
   "pygments_lexer": "ipython3",
   "version": "3.13.5"
  }
 },
 "nbformat": 4,
 "nbformat_minor": 5
}
